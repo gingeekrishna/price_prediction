{
 "cells": [
  {
   "cell_type": "markdown",
   "metadata": {},
   "source": [
    "# Model Training
",
    "
",
    "This notebook will include steps for training and evaluating the vehicle price prediction model."
   ]
  }
 ],
 "metadata": {},
 "nbformat": 4,
 "nbformat_minor": 5
}
